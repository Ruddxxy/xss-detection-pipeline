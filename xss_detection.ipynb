{
  "nbformat": 4,
  "nbformat_minor": 0,
  "metadata": {
    "colab": {
      "provenance": [],
      "gpuType": "T4"
    },
    "kernelspec": {
      "name": "python3",
      "display_name": "Python 3"
    },
    "language_info": {
      "name": "python"
    },
    "accelerator": "GPU"
  },
  "cells": [
    {
      "cell_type": "code",
      "source": [
        "!pip install esprima"
      ],
      "metadata": {
        "colab": {
          "base_uri": "https://localhost:8080/"
        },
        "id": "LF6CHOSpbwaf",
        "outputId": "78bc10bd-90a8-4f65-8143-9816732bb991"
      },
      "execution_count": null,
      "outputs": [
        {
          "output_type": "stream",
          "name": "stdout",
          "text": [
            "Collecting esprima\n",
            "  Downloading esprima-4.0.1.tar.gz (47 kB)\n",
            "\u001b[?25l     \u001b[90m━━━━━━━━━━━━━━━━━━━━━━━━━━━━━━━━━━━━━━━━\u001b[0m \u001b[32m0.0/47.0 kB\u001b[0m \u001b[31m?\u001b[0m eta \u001b[36m-:--:--\u001b[0m\r\u001b[2K     \u001b[90m━━━━━━━━━━━━━━━━━━━━━━━━━━━━━━━━━━━━━━━━\u001b[0m \u001b[32m47.0/47.0 kB\u001b[0m \u001b[31m2.4 MB/s\u001b[0m eta \u001b[36m0:00:00\u001b[0m\n",
            "\u001b[?25h  Preparing metadata (setup.py) ... \u001b[?25l\u001b[?25hdone\n",
            "Building wheels for collected packages: esprima\n",
            "  Building wheel for esprima (setup.py) ... \u001b[?25l\u001b[?25hdone\n",
            "  Created wheel for esprima: filename=esprima-4.0.1-py3-none-any.whl size=62243 sha256=89d81a920c2e94680ba7c35e1202fccd0c70083eeadfb177f7416afc86a2963c\n",
            "  Stored in directory: /root/.cache/pip/wheels/29/07/98/c81693d054f3f6283dd60ae0e41198be75372128b2fcc198b6\n",
            "Successfully built esprima\n",
            "Installing collected packages: esprima\n",
            "Successfully installed esprima-4.0.1\n"
          ]
        }
      ]
    },
    {
      "cell_type": "markdown",
      "source": [
        "### Cell 2: Library Imports\n"
      ],
      "metadata": {
        "id": "kovw1zLId7lG"
      }
    },
    {
      "cell_type": "code",
      "execution_count": null,
      "metadata": {
        "id": "BJz1AgvJbdcU"
      },
      "outputs": [],
      "source": [
        "\n",
        "import re\n",
        "import pandas as pd\n",
        "import numpy as np\n",
        "from sklearn.feature_extraction.text import TfidfVectorizer\n",
        "from sklearn.ensemble import IsolationForest, RandomForestClassifier\n",
        "from sklearn.metrics import classification_report\n",
        "from sklearn.model_selection import KFold\n",
        "import esprima\n",
        "from collections import Counter\n",
        "import math\n",
        "from sklearn.metrics import classification_report, confusion_matrix\n",
        "import seaborn as sns\n",
        "import matplotlib.pyplot as plt"
      ]
    },
    {
      "cell_type": "markdown",
      "source": [
        "### Cell 3: Feature Extraction Function (`extract_ast_features`)\n"
      ],
      "metadata": {
        "id": "2AOfbSO2eAm2"
      }
    },
    {
      "cell_type": "code",
      "source": [
        "#Feature Extraction Function\n",
        "def extract_ast_features(code):\n",
        "    features = []\n",
        "    code = code.strip()\n",
        "    max_depth, tag_count, attr_count, event_handlers, pattern_matches, js_strings = 0, 0, 0, 0, 0, 0\n",
        "    tag_count = len(re.findall(r'<[a-zA-Z]+', code))\n",
        "    attr_count = len(re.findall(r'\\s+[a-zA-Z-]+=', code))\n",
        "    event_handlers = len(re.findall(r'\\s+on\\w+\\s*=', code, re.IGNORECASE))\n",
        "    js_strings = len(re.findall(r'[\\'\"].?(alert|eval|document|window|querySelector|write|URL).?[\\'\"]', code, re.IGNORECASE))\n",
        "\n",
        "    # Stricter benign HTML check\n",
        "    if re.match(r'^\\s*<(div|span|p|img|a|ul|li|table|tr|td|h[1-6]|br|hr)(?:\\s+[^>])?>\\s*$', code, re.IGNORECASE):\n",
        "        features.extend([f'benign_html_tag', f'tag_count_{min(tag_count, 5)}', f'attr_count_{min(attr_count, 5)}'])\n",
        "        return features\n",
        "\n",
        "    # AST Parsing\n",
        "    call_count, literal_count = 0, 0\n",
        "    try:\n",
        "        ast = esprima.parseScript(code, tolerant=True)\n",
        "        # (A full traversal implementation would go here)\n",
        "    except Exception:\n",
        "        pass\n",
        "\n",
        "    # Obfuscation Metrics & Suspicious Keywords\n",
        "    suspicious_calls = ['eval', 'atob', 'unescape', 'Function', 'setTimeout', 'fromCharCode', 'querySelector', 'write']\n",
        "    features.extend([f'suspicious_{call}' for call in suspicious_calls if call.lower() in code.lower()])\n",
        "\n",
        "    # Refined XSS Regex Patterns\n",
        "    xss_patterns = [r'(?i)<script(?:\\\\s+[^>]*)?>', r'(?i)alert\\b', r'(?i)eval\\(', r'(?i)document\\.cookie']\n",
        "    for pattern in xss_patterns:\n",
        "        if re.search(pattern, code, re.IGNORECASE):\n",
        "            features.append('pattern_' + re.sub(r'\\W+', '', pattern.replace('(?i)', '')).strip('').lower())\n",
        "            pattern_matches += 1\n",
        "\n",
        "    # Final Feature Vector Assembly\n",
        "    features.extend([\n",
        "        f'call_count_{min(call_count, 10)}', f'ast_depth_{min(max_depth, 10)}',\n",
        "        f'tag_count_{min(tag_count, 5)}', f'attr_count_{min(attr_count, 5)}',\n",
        "        f'event_handlers_{min(event_handlers, 5)}', f'pattern_matches_{min(pattern_matches, 5)}',\n",
        "        f'js_strings_{min(js_strings, 5)}'\n",
        "    ])\n",
        "\n",
        "    return features if features else ['none']"
      ],
      "metadata": {
        "id": "v0QZpyYKb0qW"
      },
      "execution_count": null,
      "outputs": []
    },
    {
      "cell_type": "markdown",
      "source": [
        "### Cell 4: Data Preprocessing\n"
      ],
      "metadata": {
        "id": "cdbO4RSaeFee"
      }
    },
    {
      "cell_type": "code",
      "source": [
        "# Preprocess Data\n",
        "data = pd.read_csv('XSS_dataset.csv')\n",
        "data['ast_features'] = data['Sentence'].apply(extract_ast_features)\n",
        "data['ast_string'] = data['ast_features'].apply(lambda x: ' '.join([str(i) for i in x if i is not None]))\n",
        "benign_data = data[data['Label'] == 0]"
      ],
      "metadata": {
        "id": "wj88P2yYb1cv"
      },
      "execution_count": null,
      "outputs": []
    },
    {
      "cell_type": "markdown",
      "source": [
        "### Cell 5: Vectorize Features\n"
      ],
      "metadata": {
        "id": "5AwqwLE1eHpu"
      }
    },
    {
      "cell_type": "code",
      "source": [
        "# Vectorize Features\n",
        "vectorizer = TfidfVectorizer(max_features=2000)\n",
        "X_all = vectorizer.fit_transform(data['ast_string'])\n",
        "X_benign = vectorizer.transform(benign_data['ast_string'])"
      ],
      "metadata": {
        "id": "Q12u4lPYb58u"
      },
      "execution_count": null,
      "outputs": []
    },
    {
      "cell_type": "markdown",
      "source": [
        "### Cell 6: Train Models"
      ],
      "metadata": {
        "id": "wfyRqIkpeKmW"
      }
    },
    {
      "cell_type": "code",
      "source": [
        "# Train Models\n",
        "iso_forest = IsolationForest(contamination=0.05, random_state=42, n_jobs=-1)\n",
        "iso_forest.fit(X_benign.toarray())\n",
        "rf_model = RandomForestClassifier(n_estimators=100, class_weight={0: 1, 1: 3}, random_state=42)\n",
        "rf_model.fit(X_all, data['Label'])"
      ],
      "metadata": {
        "colab": {
          "base_uri": "https://localhost:8080/",
          "height": 80
        },
        "id": "Ctq3CNf3b6m-",
        "outputId": "38433e59-a224-4923-c90e-e24397bcaccc"
      },
      "execution_count": null,
      "outputs": [
        {
          "output_type": "execute_result",
          "data": {
            "text/plain": [
              "RandomForestClassifier(class_weight={0: 1, 1: 3}, random_state=42)"
            ],
            "text/html": [
              "<style>#sk-container-id-1 {\n",
              "  /* Definition of color scheme common for light and dark mode */\n",
              "  --sklearn-color-text: #000;\n",
              "  --sklearn-color-text-muted: #666;\n",
              "  --sklearn-color-line: gray;\n",
              "  /* Definition of color scheme for unfitted estimators */\n",
              "  --sklearn-color-unfitted-level-0: #fff5e6;\n",
              "  --sklearn-color-unfitted-level-1: #f6e4d2;\n",
              "  --sklearn-color-unfitted-level-2: #ffe0b3;\n",
              "  --sklearn-color-unfitted-level-3: chocolate;\n",
              "  /* Definition of color scheme for fitted estimators */\n",
              "  --sklearn-color-fitted-level-0: #f0f8ff;\n",
              "  --sklearn-color-fitted-level-1: #d4ebff;\n",
              "  --sklearn-color-fitted-level-2: #b3dbfd;\n",
              "  --sklearn-color-fitted-level-3: cornflowerblue;\n",
              "\n",
              "  /* Specific color for light theme */\n",
              "  --sklearn-color-text-on-default-background: var(--sg-text-color, var(--theme-code-foreground, var(--jp-content-font-color1, black)));\n",
              "  --sklearn-color-background: var(--sg-background-color, var(--theme-background, var(--jp-layout-color0, white)));\n",
              "  --sklearn-color-border-box: var(--sg-text-color, var(--theme-code-foreground, var(--jp-content-font-color1, black)));\n",
              "  --sklearn-color-icon: #696969;\n",
              "\n",
              "  @media (prefers-color-scheme: dark) {\n",
              "    /* Redefinition of color scheme for dark theme */\n",
              "    --sklearn-color-text-on-default-background: var(--sg-text-color, var(--theme-code-foreground, var(--jp-content-font-color1, white)));\n",
              "    --sklearn-color-background: var(--sg-background-color, var(--theme-background, var(--jp-layout-color0, #111)));\n",
              "    --sklearn-color-border-box: var(--sg-text-color, var(--theme-code-foreground, var(--jp-content-font-color1, white)));\n",
              "    --sklearn-color-icon: #878787;\n",
              "  }\n",
              "}\n",
              "\n",
              "#sk-container-id-1 {\n",
              "  color: var(--sklearn-color-text);\n",
              "}\n",
              "\n",
              "#sk-container-id-1 pre {\n",
              "  padding: 0;\n",
              "}\n",
              "\n",
              "#sk-container-id-1 input.sk-hidden--visually {\n",
              "  border: 0;\n",
              "  clip: rect(1px 1px 1px 1px);\n",
              "  clip: rect(1px, 1px, 1px, 1px);\n",
              "  height: 1px;\n",
              "  margin: -1px;\n",
              "  overflow: hidden;\n",
              "  padding: 0;\n",
              "  position: absolute;\n",
              "  width: 1px;\n",
              "}\n",
              "\n",
              "#sk-container-id-1 div.sk-dashed-wrapped {\n",
              "  border: 1px dashed var(--sklearn-color-line);\n",
              "  margin: 0 0.4em 0.5em 0.4em;\n",
              "  box-sizing: border-box;\n",
              "  padding-bottom: 0.4em;\n",
              "  background-color: var(--sklearn-color-background);\n",
              "}\n",
              "\n",
              "#sk-container-id-1 div.sk-container {\n",
              "  /* jupyter's `normalize.less` sets `[hidden] { display: none; }`\n",
              "     but bootstrap.min.css set `[hidden] { display: none !important; }`\n",
              "     so we also need the `!important` here to be able to override the\n",
              "     default hidden behavior on the sphinx rendered scikit-learn.org.\n",
              "     See: https://github.com/scikit-learn/scikit-learn/issues/21755 */\n",
              "  display: inline-block !important;\n",
              "  position: relative;\n",
              "}\n",
              "\n",
              "#sk-container-id-1 div.sk-text-repr-fallback {\n",
              "  display: none;\n",
              "}\n",
              "\n",
              "div.sk-parallel-item,\n",
              "div.sk-serial,\n",
              "div.sk-item {\n",
              "  /* draw centered vertical line to link estimators */\n",
              "  background-image: linear-gradient(var(--sklearn-color-text-on-default-background), var(--sklearn-color-text-on-default-background));\n",
              "  background-size: 2px 100%;\n",
              "  background-repeat: no-repeat;\n",
              "  background-position: center center;\n",
              "}\n",
              "\n",
              "/* Parallel-specific style estimator block */\n",
              "\n",
              "#sk-container-id-1 div.sk-parallel-item::after {\n",
              "  content: \"\";\n",
              "  width: 100%;\n",
              "  border-bottom: 2px solid var(--sklearn-color-text-on-default-background);\n",
              "  flex-grow: 1;\n",
              "}\n",
              "\n",
              "#sk-container-id-1 div.sk-parallel {\n",
              "  display: flex;\n",
              "  align-items: stretch;\n",
              "  justify-content: center;\n",
              "  background-color: var(--sklearn-color-background);\n",
              "  position: relative;\n",
              "}\n",
              "\n",
              "#sk-container-id-1 div.sk-parallel-item {\n",
              "  display: flex;\n",
              "  flex-direction: column;\n",
              "}\n",
              "\n",
              "#sk-container-id-1 div.sk-parallel-item:first-child::after {\n",
              "  align-self: flex-end;\n",
              "  width: 50%;\n",
              "}\n",
              "\n",
              "#sk-container-id-1 div.sk-parallel-item:last-child::after {\n",
              "  align-self: flex-start;\n",
              "  width: 50%;\n",
              "}\n",
              "\n",
              "#sk-container-id-1 div.sk-parallel-item:only-child::after {\n",
              "  width: 0;\n",
              "}\n",
              "\n",
              "/* Serial-specific style estimator block */\n",
              "\n",
              "#sk-container-id-1 div.sk-serial {\n",
              "  display: flex;\n",
              "  flex-direction: column;\n",
              "  align-items: center;\n",
              "  background-color: var(--sklearn-color-background);\n",
              "  padding-right: 1em;\n",
              "  padding-left: 1em;\n",
              "}\n",
              "\n",
              "\n",
              "/* Toggleable style: style used for estimator/Pipeline/ColumnTransformer box that is\n",
              "clickable and can be expanded/collapsed.\n",
              "- Pipeline and ColumnTransformer use this feature and define the default style\n",
              "- Estimators will overwrite some part of the style using the `sk-estimator` class\n",
              "*/\n",
              "\n",
              "/* Pipeline and ColumnTransformer style (default) */\n",
              "\n",
              "#sk-container-id-1 div.sk-toggleable {\n",
              "  /* Default theme specific background. It is overwritten whether we have a\n",
              "  specific estimator or a Pipeline/ColumnTransformer */\n",
              "  background-color: var(--sklearn-color-background);\n",
              "}\n",
              "\n",
              "/* Toggleable label */\n",
              "#sk-container-id-1 label.sk-toggleable__label {\n",
              "  cursor: pointer;\n",
              "  display: flex;\n",
              "  width: 100%;\n",
              "  margin-bottom: 0;\n",
              "  padding: 0.5em;\n",
              "  box-sizing: border-box;\n",
              "  text-align: center;\n",
              "  align-items: start;\n",
              "  justify-content: space-between;\n",
              "  gap: 0.5em;\n",
              "}\n",
              "\n",
              "#sk-container-id-1 label.sk-toggleable__label .caption {\n",
              "  font-size: 0.6rem;\n",
              "  font-weight: lighter;\n",
              "  color: var(--sklearn-color-text-muted);\n",
              "}\n",
              "\n",
              "#sk-container-id-1 label.sk-toggleable__label-arrow:before {\n",
              "  /* Arrow on the left of the label */\n",
              "  content: \"▸\";\n",
              "  float: left;\n",
              "  margin-right: 0.25em;\n",
              "  color: var(--sklearn-color-icon);\n",
              "}\n",
              "\n",
              "#sk-container-id-1 label.sk-toggleable__label-arrow:hover:before {\n",
              "  color: var(--sklearn-color-text);\n",
              "}\n",
              "\n",
              "/* Toggleable content - dropdown */\n",
              "\n",
              "#sk-container-id-1 div.sk-toggleable__content {\n",
              "  max-height: 0;\n",
              "  max-width: 0;\n",
              "  overflow: hidden;\n",
              "  text-align: left;\n",
              "  /* unfitted */\n",
              "  background-color: var(--sklearn-color-unfitted-level-0);\n",
              "}\n",
              "\n",
              "#sk-container-id-1 div.sk-toggleable__content.fitted {\n",
              "  /* fitted */\n",
              "  background-color: var(--sklearn-color-fitted-level-0);\n",
              "}\n",
              "\n",
              "#sk-container-id-1 div.sk-toggleable__content pre {\n",
              "  margin: 0.2em;\n",
              "  border-radius: 0.25em;\n",
              "  color: var(--sklearn-color-text);\n",
              "  /* unfitted */\n",
              "  background-color: var(--sklearn-color-unfitted-level-0);\n",
              "}\n",
              "\n",
              "#sk-container-id-1 div.sk-toggleable__content.fitted pre {\n",
              "  /* unfitted */\n",
              "  background-color: var(--sklearn-color-fitted-level-0);\n",
              "}\n",
              "\n",
              "#sk-container-id-1 input.sk-toggleable__control:checked~div.sk-toggleable__content {\n",
              "  /* Expand drop-down */\n",
              "  max-height: 200px;\n",
              "  max-width: 100%;\n",
              "  overflow: auto;\n",
              "}\n",
              "\n",
              "#sk-container-id-1 input.sk-toggleable__control:checked~label.sk-toggleable__label-arrow:before {\n",
              "  content: \"▾\";\n",
              "}\n",
              "\n",
              "/* Pipeline/ColumnTransformer-specific style */\n",
              "\n",
              "#sk-container-id-1 div.sk-label input.sk-toggleable__control:checked~label.sk-toggleable__label {\n",
              "  color: var(--sklearn-color-text);\n",
              "  background-color: var(--sklearn-color-unfitted-level-2);\n",
              "}\n",
              "\n",
              "#sk-container-id-1 div.sk-label.fitted input.sk-toggleable__control:checked~label.sk-toggleable__label {\n",
              "  background-color: var(--sklearn-color-fitted-level-2);\n",
              "}\n",
              "\n",
              "/* Estimator-specific style */\n",
              "\n",
              "/* Colorize estimator box */\n",
              "#sk-container-id-1 div.sk-estimator input.sk-toggleable__control:checked~label.sk-toggleable__label {\n",
              "  /* unfitted */\n",
              "  background-color: var(--sklearn-color-unfitted-level-2);\n",
              "}\n",
              "\n",
              "#sk-container-id-1 div.sk-estimator.fitted input.sk-toggleable__control:checked~label.sk-toggleable__label {\n",
              "  /* fitted */\n",
              "  background-color: var(--sklearn-color-fitted-level-2);\n",
              "}\n",
              "\n",
              "#sk-container-id-1 div.sk-label label.sk-toggleable__label,\n",
              "#sk-container-id-1 div.sk-label label {\n",
              "  /* The background is the default theme color */\n",
              "  color: var(--sklearn-color-text-on-default-background);\n",
              "}\n",
              "\n",
              "/* On hover, darken the color of the background */\n",
              "#sk-container-id-1 div.sk-label:hover label.sk-toggleable__label {\n",
              "  color: var(--sklearn-color-text);\n",
              "  background-color: var(--sklearn-color-unfitted-level-2);\n",
              "}\n",
              "\n",
              "/* Label box, darken color on hover, fitted */\n",
              "#sk-container-id-1 div.sk-label.fitted:hover label.sk-toggleable__label.fitted {\n",
              "  color: var(--sklearn-color-text);\n",
              "  background-color: var(--sklearn-color-fitted-level-2);\n",
              "}\n",
              "\n",
              "/* Estimator label */\n",
              "\n",
              "#sk-container-id-1 div.sk-label label {\n",
              "  font-family: monospace;\n",
              "  font-weight: bold;\n",
              "  display: inline-block;\n",
              "  line-height: 1.2em;\n",
              "}\n",
              "\n",
              "#sk-container-id-1 div.sk-label-container {\n",
              "  text-align: center;\n",
              "}\n",
              "\n",
              "/* Estimator-specific */\n",
              "#sk-container-id-1 div.sk-estimator {\n",
              "  font-family: monospace;\n",
              "  border: 1px dotted var(--sklearn-color-border-box);\n",
              "  border-radius: 0.25em;\n",
              "  box-sizing: border-box;\n",
              "  margin-bottom: 0.5em;\n",
              "  /* unfitted */\n",
              "  background-color: var(--sklearn-color-unfitted-level-0);\n",
              "}\n",
              "\n",
              "#sk-container-id-1 div.sk-estimator.fitted {\n",
              "  /* fitted */\n",
              "  background-color: var(--sklearn-color-fitted-level-0);\n",
              "}\n",
              "\n",
              "/* on hover */\n",
              "#sk-container-id-1 div.sk-estimator:hover {\n",
              "  /* unfitted */\n",
              "  background-color: var(--sklearn-color-unfitted-level-2);\n",
              "}\n",
              "\n",
              "#sk-container-id-1 div.sk-estimator.fitted:hover {\n",
              "  /* fitted */\n",
              "  background-color: var(--sklearn-color-fitted-level-2);\n",
              "}\n",
              "\n",
              "/* Specification for estimator info (e.g. \"i\" and \"?\") */\n",
              "\n",
              "/* Common style for \"i\" and \"?\" */\n",
              "\n",
              ".sk-estimator-doc-link,\n",
              "a:link.sk-estimator-doc-link,\n",
              "a:visited.sk-estimator-doc-link {\n",
              "  float: right;\n",
              "  font-size: smaller;\n",
              "  line-height: 1em;\n",
              "  font-family: monospace;\n",
              "  background-color: var(--sklearn-color-background);\n",
              "  border-radius: 1em;\n",
              "  height: 1em;\n",
              "  width: 1em;\n",
              "  text-decoration: none !important;\n",
              "  margin-left: 0.5em;\n",
              "  text-align: center;\n",
              "  /* unfitted */\n",
              "  border: var(--sklearn-color-unfitted-level-1) 1pt solid;\n",
              "  color: var(--sklearn-color-unfitted-level-1);\n",
              "}\n",
              "\n",
              ".sk-estimator-doc-link.fitted,\n",
              "a:link.sk-estimator-doc-link.fitted,\n",
              "a:visited.sk-estimator-doc-link.fitted {\n",
              "  /* fitted */\n",
              "  border: var(--sklearn-color-fitted-level-1) 1pt solid;\n",
              "  color: var(--sklearn-color-fitted-level-1);\n",
              "}\n",
              "\n",
              "/* On hover */\n",
              "div.sk-estimator:hover .sk-estimator-doc-link:hover,\n",
              ".sk-estimator-doc-link:hover,\n",
              "div.sk-label-container:hover .sk-estimator-doc-link:hover,\n",
              ".sk-estimator-doc-link:hover {\n",
              "  /* unfitted */\n",
              "  background-color: var(--sklearn-color-unfitted-level-3);\n",
              "  color: var(--sklearn-color-background);\n",
              "  text-decoration: none;\n",
              "}\n",
              "\n",
              "div.sk-estimator.fitted:hover .sk-estimator-doc-link.fitted:hover,\n",
              ".sk-estimator-doc-link.fitted:hover,\n",
              "div.sk-label-container:hover .sk-estimator-doc-link.fitted:hover,\n",
              ".sk-estimator-doc-link.fitted:hover {\n",
              "  /* fitted */\n",
              "  background-color: var(--sklearn-color-fitted-level-3);\n",
              "  color: var(--sklearn-color-background);\n",
              "  text-decoration: none;\n",
              "}\n",
              "\n",
              "/* Span, style for the box shown on hovering the info icon */\n",
              ".sk-estimator-doc-link span {\n",
              "  display: none;\n",
              "  z-index: 9999;\n",
              "  position: relative;\n",
              "  font-weight: normal;\n",
              "  right: .2ex;\n",
              "  padding: .5ex;\n",
              "  margin: .5ex;\n",
              "  width: min-content;\n",
              "  min-width: 20ex;\n",
              "  max-width: 50ex;\n",
              "  color: var(--sklearn-color-text);\n",
              "  box-shadow: 2pt 2pt 4pt #999;\n",
              "  /* unfitted */\n",
              "  background: var(--sklearn-color-unfitted-level-0);\n",
              "  border: .5pt solid var(--sklearn-color-unfitted-level-3);\n",
              "}\n",
              "\n",
              ".sk-estimator-doc-link.fitted span {\n",
              "  /* fitted */\n",
              "  background: var(--sklearn-color-fitted-level-0);\n",
              "  border: var(--sklearn-color-fitted-level-3);\n",
              "}\n",
              "\n",
              ".sk-estimator-doc-link:hover span {\n",
              "  display: block;\n",
              "}\n",
              "\n",
              "/* \"?\"-specific style due to the `<a>` HTML tag */\n",
              "\n",
              "#sk-container-id-1 a.estimator_doc_link {\n",
              "  float: right;\n",
              "  font-size: 1rem;\n",
              "  line-height: 1em;\n",
              "  font-family: monospace;\n",
              "  background-color: var(--sklearn-color-background);\n",
              "  border-radius: 1rem;\n",
              "  height: 1rem;\n",
              "  width: 1rem;\n",
              "  text-decoration: none;\n",
              "  /* unfitted */\n",
              "  color: var(--sklearn-color-unfitted-level-1);\n",
              "  border: var(--sklearn-color-unfitted-level-1) 1pt solid;\n",
              "}\n",
              "\n",
              "#sk-container-id-1 a.estimator_doc_link.fitted {\n",
              "  /* fitted */\n",
              "  border: var(--sklearn-color-fitted-level-1) 1pt solid;\n",
              "  color: var(--sklearn-color-fitted-level-1);\n",
              "}\n",
              "\n",
              "/* On hover */\n",
              "#sk-container-id-1 a.estimator_doc_link:hover {\n",
              "  /* unfitted */\n",
              "  background-color: var(--sklearn-color-unfitted-level-3);\n",
              "  color: var(--sklearn-color-background);\n",
              "  text-decoration: none;\n",
              "}\n",
              "\n",
              "#sk-container-id-1 a.estimator_doc_link.fitted:hover {\n",
              "  /* fitted */\n",
              "  background-color: var(--sklearn-color-fitted-level-3);\n",
              "}\n",
              "</style><div id=\"sk-container-id-1\" class=\"sk-top-container\"><div class=\"sk-text-repr-fallback\"><pre>RandomForestClassifier(class_weight={0: 1, 1: 3}, random_state=42)</pre><b>In a Jupyter environment, please rerun this cell to show the HTML representation or trust the notebook. <br />On GitHub, the HTML representation is unable to render, please try loading this page with nbviewer.org.</b></div><div class=\"sk-container\" hidden><div class=\"sk-item\"><div class=\"sk-estimator fitted sk-toggleable\"><input class=\"sk-toggleable__control sk-hidden--visually\" id=\"sk-estimator-id-1\" type=\"checkbox\" checked><label for=\"sk-estimator-id-1\" class=\"sk-toggleable__label fitted sk-toggleable__label-arrow\"><div><div>RandomForestClassifier</div></div><div><a class=\"sk-estimator-doc-link fitted\" rel=\"noreferrer\" target=\"_blank\" href=\"https://scikit-learn.org/1.6/modules/generated/sklearn.ensemble.RandomForestClassifier.html\">?<span>Documentation for RandomForestClassifier</span></a><span class=\"sk-estimator-doc-link fitted\">i<span>Fitted</span></span></div></label><div class=\"sk-toggleable__content fitted\"><pre>RandomForestClassifier(class_weight={0: 1, 1: 3}, random_state=42)</pre></div> </div></div></div></div>"
            ]
          },
          "metadata": {},
          "execution_count": 9
        }
      ]
    },
    {
      "cell_type": "markdown",
      "source": [
        "### Cell 7: Hybrid Detection Pipeline (`detect_xss`)"
      ],
      "metadata": {
        "id": "3s52vS4VeQBO"
      }
    },
    {
      "cell_type": "code",
      "source": [
        "# Hybrid Detection Pipeline\n",
        "def detect_xss(new_samples, vectorizer, iso_forest, rf_model):\n",
        "    ast_features = [extract_ast_features(s) for s in new_samples]\n",
        "    ast_strings = [' '.join(f) for f in ast_features]\n",
        "    X_new = vectorizer.transform(ast_strings).toarray()\n",
        "\n",
        "    iso_preds = (iso_forest.predict(X_new) == -1).astype(int)\n",
        "    rf_preds = rf_model.predict(X_new)\n",
        "    predictions = np.logical_or(iso_preds, rf_preds).astype(int)\n",
        "\n",
        "    feature_importance = pd.DataFrame({\n",
        "        'feature': vectorizer.get_feature_names_out(),\n",
        "        'importance': rf_model.feature_importances_\n",
        "    }).sort_values(by='importance', ascending=False)\n",
        "\n",
        "    return predictions, feature_importance"
      ],
      "metadata": {
        "id": "wJp8fr-Qb-nn"
      },
      "execution_count": null,
      "outputs": []
    },
    {
      "cell_type": "markdown",
      "source": [
        "### Cell 8: Evaluate Final Model"
      ],
      "metadata": {
        "id": "GGXBPTtneTDH"
      }
    },
    {
      "cell_type": "code",
      "source": [
        "# Evaluate final model\n",
        "test_sentences = data['Sentence'][:1000]\n",
        "y_test = data['Label'][:1000].values\n",
        "test_preds, feature_importance = detect_xss(test_sentences, vectorizer, iso_forest, rf_model)\n",
        "print(\"\\n--- Final Model Performance ---\")\n",
        "print(classification_report(y_test, test_preds, target_names=[\"Benign\", \"Malicious\"], zero_division=0))\n"
      ],
      "metadata": {
        "colab": {
          "base_uri": "https://localhost:8080/"
        },
        "id": "0C5cD0eyb_NP",
        "outputId": "f81f7668-6638-4355-bb49-1a79e71251f0"
      },
      "execution_count": null,
      "outputs": [
        {
          "output_type": "stream",
          "name": "stdout",
          "text": [
            "\n",
            "--- Final Model Performance ---\n",
            "              precision    recall  f1-score   support\n",
            "\n",
            "      Benign       0.98      0.96      0.97       454\n",
            "   Malicious       0.97      0.99      0.98       546\n",
            "\n",
            "    accuracy                           0.97      1000\n",
            "   macro avg       0.98      0.97      0.97      1000\n",
            "weighted avg       0.98      0.97      0.97      1000\n",
            "\n"
          ]
        }
      ]
    },
    {
      "cell_type": "markdown",
      "source": [
        "### Cell 9: Full Evaluation and Visualization"
      ],
      "metadata": {
        "id": "y0bCekVoeW7G"
      }
    },
    {
      "cell_type": "markdown",
      "source": [
        "## Evaluation Overview\n",
        "\n",
        "In this section we evaluate the hybrid detection pipeline using the full dataset.\n",
        "The evaluation includes:\n",
        "- **Classification Report** → precision, recall, F1-score for benign vs malicious classes.\n",
        "- **Confusion Matrix** → shows how many attacks are caught vs missed.\n",
        "- **Feature Importances** → interprets which structural/lexical features were most predictive.\n"
      ],
      "metadata": {
        "id": "erR-WTBgiBv8"
      }
    },
    {
      "cell_type": "code",
      "source": [
        "# === Hybrid Predictions (using existing models and data) ===\n",
        "X_all = vectorizer.transform(data['ast_string'])\n",
        "y_all = data['Label'].values\n",
        "\n",
        "iso_preds = (iso_forest.predict(X_all.toarray()) == -1).astype(int)\n",
        "rf_preds = rf_model.predict(X_all)\n",
        "hybrid_preds = np.logical_or(iso_preds, rf_preds).astype(int)\n",
        "\n",
        "# === Classification Report ===\n",
        "print(\"=== Classification Report (Hybrid Model) ===\\n\")\n",
        "print(classification_report(y_all, hybrid_preds, target_names=[\"Benign\", \"Malicious\"], zero_division=0))\n",
        "\n",
        "# === Confusion Matrix ===\n",
        "cm = confusion_matrix(y_all, hybrid_preds)\n",
        "plt.figure(figsize=(5,4))\n",
        "sns.heatmap(cm, annot=True, fmt=\"d\", cmap=\"Blues\",\n",
        "            xticklabels=[\"Benign\", \"Malicious\"],\n",
        "            yticklabels=[\"Benign\", \"Malicious\"])\n",
        "plt.xlabel(\"Predicted\")\n",
        "plt.ylabel(\"Actual\")\n",
        "plt.title(\"Confusion Matrix (Hybrid Model)\")\n",
        "plt.show()\n",
        "\n",
        "# === Top 10 Feature Importances ===\n",
        "importances = pd.DataFrame({\n",
        "    \"feature\": vectorizer.get_feature_names_out(),\n",
        "    \"importance\": rf_model.feature_importances_\n",
        "}).sort_values(by=\"importance\", ascending=False)\n",
        "\n",
        "print(\"\\n=== Top 10 Important Features ===\")\n",
        "print(importances.head(10))\n",
        "\n",
        "importances.head(10).plot(kind=\"barh\", x=\"feature\", y=\"importance\", legend=False, figsize=(6,4))\n",
        "plt.title(\"Top 10 Feature Importances\")\n",
        "plt.gca().invert_yaxis()\n",
        "plt.show()"
      ],
      "metadata": {
        "colab": {
          "base_uri": "https://localhost:8080/",
          "height": 1000
        },
        "id": "_2broWtKc8KW",
        "outputId": "b23ad531-2713-4ad6-d6f9-1f002a6fe05b"
      },
      "execution_count": null,
      "outputs": [
        {
          "output_type": "stream",
          "name": "stdout",
          "text": [
            "=== Classification Report (Hybrid Model) ===\n",
            "\n",
            "              precision    recall  f1-score   support\n",
            "\n",
            "      Benign       0.99      0.96      0.97      6313\n",
            "   Malicious       0.96      0.99      0.98      7373\n",
            "\n",
            "    accuracy                           0.97     13686\n",
            "   macro avg       0.97      0.97      0.97     13686\n",
            "weighted avg       0.97      0.97      0.97     13686\n",
            "\n"
          ]
        },
        {
          "output_type": "display_data",
          "data": {
            "text/plain": [
              "<Figure size 500x400 with 2 Axes>"
            ],
            "image/png": "[encoded data removed]"
          },
          "metadata": {}
        },
        {
          "output_type": "stream",
          "name": "stdout",
          "text": [
            "\n",
            "=== Top 10 Important Features ===\n",
            "              feature  importance\n",
            "17  pattern_matches_0    0.219815\n",
            "14     pattern_alertb    0.202264\n",
            "9    event_handlers_0    0.191766\n",
            "18  pattern_matches_1    0.091880\n",
            "10   event_handlers_1    0.090995\n",
            "0         ast_depth_0    0.055269\n",
            "12       js_strings_0    0.040127\n",
            "8        call_count_0    0.024389\n",
            "1        attr_count_0    0.021668\n",
            "30        tag_count_2    0.020579\n"
          ]
        },
        {
          "output_type": "display_data",
          "data": {
            "text/plain": [
              "<Figure size 600x400 with 1 Axes>"
            ],
            "image/png": "[encoded data removed]"
          },
          "metadata": {}
        }
      ]
    }
  ]
}